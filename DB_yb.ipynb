{
  "nbformat": 4,
  "nbformat_minor": 0,
  "metadata": {
    "colab": {
      "provenance": [],
      "authorship_tag": "ABX9TyOTwyuoBUH6aXnsbK0NPVBH",
      "include_colab_link": true
    },
    "kernelspec": {
      "name": "python3",
      "display_name": "Python 3"
    },
    "language_info": {
      "name": "python"
    }
  },
  "cells": [
    {
      "cell_type": "markdown",
      "metadata": {
        "id": "view-in-github",
        "colab_type": "text"
      },
      "source": [
        "<a href=\"https://colab.research.google.com/github/Indigo-Coder-github/23_1_Database/blob/feature_plot/DB_yb.ipynb\" target=\"_parent\"><img src=\"https://colab.research.google.com/assets/colab-badge.svg\" alt=\"Open In Colab\"/></a>"
      ]
    },
    {
      "cell_type": "markdown",
      "source": [],
      "metadata": {
        "id": "gJ8jgDoRhR_Y"
      }
    },
    {
      "cell_type": "code",
      "execution_count": 31,
      "metadata": {
        "id": "wIcGgz4J7F4P"
      },
      "outputs": [],
      "source": [
        "#데이터 불러오기\n",
        "import pandas as pd\n",
        "import numpy as np\n",
        "from scipy.stats import zscore\n",
        "import random as rd\n",
        "import os\n"
      ]
    },
    {
      "cell_type": "code",
      "source": [
        "#시각화\n",
        "import seaborn as sns\n",
        "import matplotlib.pyplot as plt\n",
        "%matplotlib inline\n"
      ],
      "metadata": {
        "id": "h8eg266f7TGL"
      },
      "execution_count": 32,
      "outputs": []
    },
    {
      "cell_type": "code",
      "source": [
        "data=pd.read_csv('/content/HR Employee Attrition.csv')"
      ],
      "metadata": {
        "id": "U4UmI9cY7dSy"
      },
      "execution_count": 33,
      "outputs": []
    },
    {
      "cell_type": "code",
      "source": [
        "data"
      ],
      "metadata": {
        "id": "SKj0dPIr77iw"
      },
      "execution_count": null,
      "outputs": []
    },
    {
      "cell_type": "markdown",
      "source": [
        "## 카디널리티 수\n"
      ],
      "metadata": {
        "id": "QWERCjJYIAvP"
      }
    },
    {
      "cell_type": "code",
      "source": [
        "print('전체 데이터 건수',len(data))"
      ],
      "metadata": {
        "colab": {
          "base_uri": "https://localhost:8080/"
        },
        "id": "ursKdCwX9TSs",
        "outputId": "8f1095c0-196c-4dfd-af0b-f857edec0f9d"
      },
      "execution_count": 35,
      "outputs": [
        {
          "output_type": "stream",
          "name": "stdout",
          "text": [
            "전체 데이터 건수 1470\n"
          ]
        }
      ]
    },
    {
      "cell_type": "markdown",
      "source": [
        "## 결측치\n"
      ],
      "metadata": {
        "id": "cq7KQjEwIG5P"
      }
    },
    {
      "cell_type": "code",
      "source": [
        "print('속성별 결측치 개수')\n",
        "len(data)-data.count()"
      ],
      "metadata": {
        "colab": {
          "base_uri": "https://localhost:8080/"
        },
        "id": "o47MQKIa9Zys",
        "outputId": "81e43b11-bc69-412b-959e-eb3008d2fd49"
      },
      "execution_count": 36,
      "outputs": [
        {
          "output_type": "stream",
          "name": "stdout",
          "text": [
            "속성별 결측치 개수\n"
          ]
        },
        {
          "output_type": "execute_result",
          "data": {
            "text/plain": [
              "Age                         0\n",
              "Attrition                   0\n",
              "BusinessTravel              0\n",
              "DailyRate                   0\n",
              "Department                  0\n",
              "DistanceFromHome            0\n",
              "Education                   0\n",
              "EducationField              0\n",
              "EmployeeCount               0\n",
              "EmployeeNumber              0\n",
              "EnvironmentSatisfaction     0\n",
              "Gender                      0\n",
              "HourlyRate                  0\n",
              "JobInvolvement              0\n",
              "JobLevel                    0\n",
              "JobRole                     0\n",
              "JobSatisfaction             0\n",
              "MaritalStatus               0\n",
              "MonthlyIncome               0\n",
              "MonthlyRate                 0\n",
              "NumCompaniesWorked          0\n",
              "Over18                      0\n",
              "OverTime                    0\n",
              "PercentSalaryHike           0\n",
              "PerformanceRating           0\n",
              "RelationshipSatisfaction    0\n",
              "StandardHours               0\n",
              "StockOptionLevel            0\n",
              "TotalWorkingYears           0\n",
              "TrainingTimesLastYear       0\n",
              "WorkLifeBalance             0\n",
              "YearsAtCompany              0\n",
              "YearsInCurrentRole          0\n",
              "YearsSinceLastPromotion     0\n",
              "YearsWithCurrManager        0\n",
              "dtype: int64"
            ]
          },
          "metadata": {},
          "execution_count": 36
        }
      ]
    },
    {
      "cell_type": "code",
      "source": [
        "print(data.isnull().sum())"
      ],
      "metadata": {
        "colab": {
          "base_uri": "https://localhost:8080/"
        },
        "id": "XR9weiFA_712",
        "outputId": "fccec502-4d93-4602-e260-d73a8fa88829"
      },
      "execution_count": 37,
      "outputs": [
        {
          "output_type": "stream",
          "name": "stdout",
          "text": [
            "Age                         0\n",
            "Attrition                   0\n",
            "BusinessTravel              0\n",
            "DailyRate                   0\n",
            "Department                  0\n",
            "DistanceFromHome            0\n",
            "Education                   0\n",
            "EducationField              0\n",
            "EmployeeCount               0\n",
            "EmployeeNumber              0\n",
            "EnvironmentSatisfaction     0\n",
            "Gender                      0\n",
            "HourlyRate                  0\n",
            "JobInvolvement              0\n",
            "JobLevel                    0\n",
            "JobRole                     0\n",
            "JobSatisfaction             0\n",
            "MaritalStatus               0\n",
            "MonthlyIncome               0\n",
            "MonthlyRate                 0\n",
            "NumCompaniesWorked          0\n",
            "Over18                      0\n",
            "OverTime                    0\n",
            "PercentSalaryHike           0\n",
            "PerformanceRating           0\n",
            "RelationshipSatisfaction    0\n",
            "StandardHours               0\n",
            "StockOptionLevel            0\n",
            "TotalWorkingYears           0\n",
            "TrainingTimesLastYear       0\n",
            "WorkLifeBalance             0\n",
            "YearsAtCompany              0\n",
            "YearsInCurrentRole          0\n",
            "YearsSinceLastPromotion     0\n",
            "YearsWithCurrManager        0\n",
            "dtype: int64\n"
          ]
        }
      ]
    },
    {
      "cell_type": "markdown",
      "source": [
        "우리 데이터에 결측치가 없낭?"
      ],
      "metadata": {
        "id": "B3Bttog6DKr-"
      }
    },
    {
      "cell_type": "markdown",
      "source": [
        "## 이상치\n"
      ],
      "metadata": {
        "id": "JFl_VRX_ILW1"
      }
    },
    {
      "cell_type": "code",
      "source": [
        "\n",
        "for col in data.columns:\n",
        "    if np.issubdtype(data[col].dtype, np.number):  # 숫자형 데이터만 선택\n",
        "        zscore_col = zscore(data[col])\n",
        "        threshold = 3\n",
        "        print(col, \"이상치 개수:\", len(np.where(np.abs(zscore_col) > threshold)[0]))"
      ],
      "metadata": {
        "colab": {
          "base_uri": "https://localhost:8080/"
        },
        "id": "GtZFVi7dDN6-",
        "outputId": "d67ceeeb-6eb4-4829-a3e4-95e3f8d213ac"
      },
      "execution_count": 87,
      "outputs": [
        {
          "output_type": "stream",
          "name": "stdout",
          "text": [
            "Age 이상치 개수: 0\n",
            "DailyRate 이상치 개수: 0\n",
            "DistanceFromHome 이상치 개수: 0\n",
            "Education 이상치 개수: 0\n",
            "EmployeeCount 이상치 개수: 0\n",
            "EmployeeNumber 이상치 개수: 0\n",
            "EnvironmentSatisfaction 이상치 개수: 0\n",
            "HourlyRate 이상치 개수: 0\n",
            "JobInvolvement 이상치 개수: 0\n",
            "JobLevel 이상치 개수: 0\n",
            "JobSatisfaction 이상치 개수: 0\n",
            "MonthlyIncome 이상치 개수: 0\n",
            "MonthlyRate 이상치 개수: 0\n",
            "NumCompaniesWorked 이상치 개수: 0\n",
            "PercentSalaryHike 이상치 개수: 0\n",
            "PerformanceRating 이상치 개수: 0\n",
            "RelationshipSatisfaction 이상치 개수: 0\n",
            "StandardHours 이상치 개수: 0\n",
            "StockOptionLevel 이상치 개수: 0\n",
            "TotalWorkingYears 이상치 개수: 16\n",
            "TrainingTimesLastYear 이상치 개수: 0\n",
            "WorkLifeBalance 이상치 개수: 0\n",
            "YearsAtCompany 이상치 개수: 25\n",
            "YearsInCurrentRole 이상치 개수: 13\n",
            "YearsSinceLastPromotion 이상치 개수: 42\n",
            "YearsWithCurrManager 이상치 개수: 14\n"
          ]
        }
      ]
    },
    {
      "cell_type": "markdown",
      "source": [
        "TotalWorkingYears 이상치 개수: 16   \n",
        "YearsAtCompany 이상치 개수: 25  \n",
        "YearsInCurrentRole 이상치 개수: 13  \n",
        "YearsSinceLastPromotion 이상치 개수: 42  \n",
        "YearsWithCurrManager 이상치 개수: 14     "
      ],
      "metadata": {
        "id": "_qGW8ZSrIguY"
      }
    },
    {
      "cell_type": "markdown",
      "source": [
        "ATTRITION=no인 걸로 찾기\n"
      ],
      "metadata": {
        "id": "wUqf1r1OiTGa"
      }
    },
    {
      "cell_type": "markdown",
      "source": [
        "### - **이상치를 가지는 카디널리티 출력**"
      ],
      "metadata": {
        "id": "jGmygLPGJScI"
      }
    },
    {
      "cell_type": "code",
      "source": [
        "threshold = 3\n",
        "outliers = []\n",
        "for col in data.columns:\n",
        "    if np.issubdtype(data[col].dtype, np.number):  # 숫자형 데이터만 선택\n",
        "        zscore_col = zscore(data[col])\n",
        "        outlier_rows = np.where(np.abs(zscore_col) > threshold)[0]\n",
        "        outliers.extend(outlier_rows)\n",
        "outliers = np.unique(outliers)  # 중복 제거\n",
        "outliers_data = data.iloc[outliers, :]\n",
        "print(outliers_data)"
      ],
      "metadata": {
        "id": "wMUi1f6mD_wb"
      },
      "execution_count": null,
      "outputs": []
    },
    {
      "cell_type": "markdown",
      "source": [
        "### TotalWorkingYears 이상치\n"
      ],
      "metadata": {
        "id": "vOWZmBJIIOxY"
      }
    },
    {
      "cell_type": "code",
      "source": [
        "twy_zscore=zscore(data['TotalWorkingYears'])\n",
        "threshold=3\n",
        "outlier_twy = np.where((np.abs(twy_zscore) > threshold)&(data['Attrition'] == 'No'))[0]\n",
        "outliers_data = data.iloc[outlier_rows, :]\n",
        "print(outlier_twy)\n",
        "print(\"Number of TotalWorkingYears outliers :\", len(outlier_twy))"
      ],
      "metadata": {
        "colab": {
          "base_uri": "https://localhost:8080/"
        },
        "id": "BtMFzYuqEpEa",
        "outputId": "5e0c6893-649b-489d-ef3b-4021f2a4526b"
      },
      "execution_count": 88,
      "outputs": [
        {
          "output_type": "stream",
          "name": "stdout",
          "text": [
            "[  85   98  187  270  401  445  624  894  956 1043 1116 1184 1301 1401]\n",
            "Number of TotalWorkingYears outliers : 14\n"
          ]
        }
      ]
    },
    {
      "cell_type": "markdown",
      "source": [
        "TotalWorkingYears 즉 총 일한 기간이 높으면 이직을 위한 퇴직이 아닌 명예퇴직 또는 은퇴의 가능성이 높기 때문에 해당 이상치는 빼는것이 적절하다고 생각하다. "
      ],
      "metadata": {
        "id": "QtvkIUr0GI_Q"
      }
    },
    {
      "cell_type": "code",
      "source": [
        "data_field=data.drop(outlier_twy,axis=0)\n",
        "print(data_field)"
      ],
      "metadata": {
        "id": "wevObPEAHEvB"
      },
      "execution_count": null,
      "outputs": []
    },
    {
      "cell_type": "markdown",
      "source": [
        "### YearsAtCompany 이상치\n"
      ],
      "metadata": {
        "id": "Z0G4dWcnJjQV"
      }
    },
    {
      "cell_type": "code",
      "source": [
        "yac_zscore=zscore(data['YearsAtCompany'])\n",
        "threshold=3\n",
        "outlier_yac = np.where((np.abs(yac_zscore) > threshold)&(data['Attrition'] == 'No'))[0]\n",
        "outliers_data = data.iloc[outlier_rows, :]\n",
        "\n",
        "\n",
        "print(outlier_yac)\n",
        "print(\"Number of YearsAtCompany outliers :\", len(outlier_yac))"
      ],
      "metadata": {
        "colab": {
          "base_uri": "https://localhost:8080/"
        },
        "id": "U8KWK5w-VPrC",
        "outputId": "eb097043-70f3-43ac-8c54-7e2c5a00e650"
      },
      "execution_count": 93,
      "outputs": [
        {
          "output_type": "stream",
          "name": "stdout",
          "text": [
            "[  62   98  190  237  270  411  425  473  477  561  592  653  677  861\n",
            "  914  918  962 1086 1116 1135 1138]\n",
            "Number of YearsAtCompany outliers : 21\n"
          ]
        }
      ]
    },
    {
      "cell_type": "markdown",
      "source": [
        "YearsAtCompany 즉 총 근속기간이 높으면 이직을 위한 퇴직이 아닌 명예퇴직 또는 은퇴의 가능성이 높기 때문에 해당 이상치는 빼는것이 적절하다고 생각하다. "
      ],
      "metadata": {
        "id": "uTP7vy3iXW3_"
      }
    },
    {
      "cell_type": "markdown",
      "source": [
        "### YearsInCurrentRole 이상치\n"
      ],
      "metadata": {
        "id": "M3mE6azkYDoC"
      }
    },
    {
      "cell_type": "code",
      "source": [
        "yic_zscore=zscore(data['YearsInCurrentRole'])\n",
        "threshold=3\n",
        "outlier_yic = np.where((np.abs(yic_zscore) > threshold)&(data['Attrition'] == 'No'))[0]\n",
        "outliers_data = data.iloc[outlier_rows, :]\n",
        "print(outlier_yic)\n",
        "print(\"Number of YearsInCurrentRole outliers :\", len(outlier_yic))"
      ],
      "metadata": {
        "colab": {
          "base_uri": "https://localhost:8080/"
        },
        "id": "gqMkT5keYI6D",
        "outputId": "bfad3f59-08a2-4367-c424-f2073819103b"
      },
      "execution_count": 95,
      "outputs": [
        {
          "output_type": "stream",
          "name": "stdout",
          "text": [
            "[  63  123  190  231  281  466  716  746  976 1024 1327 1351 1430]\n",
            "Number of YearsInCurrentRole outliers : 13\n"
          ]
        }
      ]
    },
    {
      "cell_type": "markdown",
      "source": [
        "###YearsSinceLastPromotion 이상치\n"
      ],
      "metadata": {
        "id": "xPXja7SNjXwy"
      }
    },
    {
      "cell_type": "code",
      "source": [
        "yslp_zscore=zscore(data['YearsSinceLastPromotion'])\n",
        "threshold=3\n",
        "outlier_yslp = np.where((np.abs(yslp_zscore) > threshold)&(data['Attrition'] == 'No'))[0]\n",
        "outliers_data = data.iloc[outlier_rows, :]\n",
        "print(outlier_yslp)\n",
        "print(\"Number of YearsInCurrentRole outliers :\", len(outlier_yslp))"
      ],
      "metadata": {
        "colab": {
          "base_uri": "https://localhost:8080/"
        },
        "id": "sf95wJuIjc1u",
        "outputId": "b4451c56-b02b-4356-8d85-082196cddc14"
      },
      "execution_count": 98,
      "outputs": [
        {
          "output_type": "stream",
          "name": "stdout",
          "text": [
            "[  62   64  110  123  178  218  237  326  386  425  427  535  584  653\n",
            "  701  799  861  875  914  922  926  937  976 1008 1078 1086 1093 1138\n",
            " 1156 1221 1242 1295 1301 1303 1331 1414]\n",
            "Number of YearsInCurrentRole outliers : 36\n"
          ]
        }
      ]
    },
    {
      "cell_type": "markdown",
      "source": [
        "###YearsWithCurrManager 이상치\n"
      ],
      "metadata": {
        "id": "a-5cmbXJn4pq"
      }
    },
    {
      "cell_type": "code",
      "source": [
        "ywcm_zscore=zscore(data['YearsWithCurrManager'])\n",
        "threshold=3\n",
        "outlier_ywcm = np.where((np.abs(ywcm_zscore) > threshold)&(data['Attrition'] == 'No'))[0]\n",
        "outliers_data = data.iloc[outlier_rows, :]\n",
        "print(outlier_ywcm)\n",
        "print(\"Number of YearsWithCurrManager outliers :\", len(outlier_ywcm))"
      ],
      "metadata": {
        "colab": {
          "base_uri": "https://localhost:8080/"
        },
        "id": "ZrUEZCo0n8d4",
        "outputId": "0b57a4d4-c8ca-4c7d-9459-1e5db352bb15"
      },
      "execution_count": 99,
      "outputs": [
        {
          "output_type": "stream",
          "name": "stdout",
          "text": [
            "[  28  123  153  187  231  386  561  616  635  686  875  926 1078 1348]\n",
            "Number of YearsWithCurrManager outliers : 14\n"
          ]
        }
      ]
    },
    {
      "cell_type": "markdown",
      "source": [
        "###이상치 제외 데이터 필드 생성\n"
      ],
      "metadata": {
        "id": "WEgFj5xQob9b"
      }
    },
    {
      "cell_type": "code",
      "source": [
        "outlier_rows = np.concatenate((outlier_twy, outlier_yac,outlier_yic,outlier_yslp,outlier_ywcm)) # 이상치 행 결합\n",
        "data_field = data.drop(outlier_rows, axis=0)\n",
        "print(data_field)"
      ],
      "metadata": {
        "colab": {
          "base_uri": "https://localhost:8080/"
        },
        "id": "XsE7qI_8XG0y",
        "outputId": "fa4832ce-e94f-4bbe-edb7-67facaad3a98"
      },
      "execution_count": 100,
      "outputs": [
        {
          "output_type": "stream",
          "name": "stdout",
          "text": [
            "      Age Attrition     BusinessTravel  DailyRate              Department  \\\n",
            "0      41       Yes      Travel_Rarely       1102                   Sales   \n",
            "1      49        No  Travel_Frequently        279  Research & Development   \n",
            "2      37       Yes      Travel_Rarely       1373  Research & Development   \n",
            "3      33        No  Travel_Frequently       1392  Research & Development   \n",
            "4      27        No      Travel_Rarely        591  Research & Development   \n",
            "...   ...       ...                ...        ...                     ...   \n",
            "1465   36        No  Travel_Frequently        884  Research & Development   \n",
            "1466   39        No      Travel_Rarely        613  Research & Development   \n",
            "1467   27        No      Travel_Rarely        155  Research & Development   \n",
            "1468   49        No  Travel_Frequently       1023                   Sales   \n",
            "1469   34        No      Travel_Rarely        628  Research & Development   \n",
            "\n",
            "      DistanceFromHome  Education EducationField  EmployeeCount  \\\n",
            "0                    1          2  Life Sciences              1   \n",
            "1                    8          1  Life Sciences              1   \n",
            "2                    2          2          Other              1   \n",
            "3                    3          4  Life Sciences              1   \n",
            "4                    2          1        Medical              1   \n",
            "...                ...        ...            ...            ...   \n",
            "1465                23          2        Medical              1   \n",
            "1466                 6          1        Medical              1   \n",
            "1467                 4          3  Life Sciences              1   \n",
            "1468                 2          3        Medical              1   \n",
            "1469                 8          3        Medical              1   \n",
            "\n",
            "      EmployeeNumber  ...  RelationshipSatisfaction StandardHours  \\\n",
            "0                  1  ...                         1            80   \n",
            "1                  2  ...                         4            80   \n",
            "2                  4  ...                         2            80   \n",
            "3                  5  ...                         3            80   \n",
            "4                  7  ...                         4            80   \n",
            "...              ...  ...                       ...           ...   \n",
            "1465            2061  ...                         3            80   \n",
            "1466            2062  ...                         1            80   \n",
            "1467            2064  ...                         2            80   \n",
            "1468            2065  ...                         4            80   \n",
            "1469            2068  ...                         1            80   \n",
            "\n",
            "      StockOptionLevel  TotalWorkingYears  TrainingTimesLastYear  \\\n",
            "0                    0                  8                      0   \n",
            "1                    1                 10                      3   \n",
            "2                    0                  7                      3   \n",
            "3                    0                  8                      3   \n",
            "4                    1                  6                      3   \n",
            "...                ...                ...                    ...   \n",
            "1465                 1                 17                      3   \n",
            "1466                 1                  9                      5   \n",
            "1467                 1                  6                      0   \n",
            "1468                 0                 17                      3   \n",
            "1469                 0                  6                      3   \n",
            "\n",
            "     WorkLifeBalance  YearsAtCompany YearsInCurrentRole  \\\n",
            "0                  1               6                  4   \n",
            "1                  3              10                  7   \n",
            "2                  3               0                  0   \n",
            "3                  3               8                  7   \n",
            "4                  3               2                  2   \n",
            "...              ...             ...                ...   \n",
            "1465               3               5                  2   \n",
            "1466               3               7                  7   \n",
            "1467               3               6                  2   \n",
            "1468               2               9                  6   \n",
            "1469               4               4                  3   \n",
            "\n",
            "      YearsSinceLastPromotion  YearsWithCurrManager  \n",
            "0                           0                     5  \n",
            "1                           1                     7  \n",
            "2                           0                     0  \n",
            "3                           3                     0  \n",
            "4                           2                     2  \n",
            "...                       ...                   ...  \n",
            "1465                        0                     3  \n",
            "1466                        1                     7  \n",
            "1467                        0                     3  \n",
            "1468                        0                     8  \n",
            "1469                        1                     2  \n",
            "\n",
            "[1395 rows x 35 columns]\n"
          ]
        }
      ]
    }
  ]
}