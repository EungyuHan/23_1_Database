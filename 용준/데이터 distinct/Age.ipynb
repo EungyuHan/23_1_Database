{
  "nbformat": 4,
  "nbformat_minor": 0,
  "metadata": {
    "colab": {
      "provenance": [],
      "gpuType": "T4"
    },
    "kernelspec": {
      "name": "python3",
      "display_name": "Python 3"
    },
    "language_info": {
      "name": "python"
    },
    "accelerator": "GPU",
    "gpuClass": "standard"
  },
  "cells": [
    {
      "cell_type": "code",
      "execution_count": 10,
      "metadata": {
        "colab": {
          "base_uri": "https://localhost:8080/"
        },
        "id": "ZXCOFHYzP1su",
        "outputId": "27ac2d3d-317e-451a-9d48-4f2033f66cfb"
      },
      "outputs": [
        {
          "output_type": "stream",
          "name": "stdout",
          "text": [
            "Drive already mounted at /content/drive; to attempt to forcibly remount, call drive.mount(\"/content/drive\", force_remount=True).\n",
            "[18 19 20 21 22 23 24 25 26 27 28 29 30 31 32 33 34 35 36 37 38 39 40 41\n",
            " 42 43 44 45 46 47 48 49 50 51 52 53 54 55 56 57 58 59 60]\n",
            "43\n"
          ]
        }
      ],
      "source": [
        "from google.colab import drive\n",
        "drive.mount('/content/drive')\n",
        "\n",
        "import pandas as pd\n",
        "data = pd.read_csv('/content/drive/MyDrive/DB_TeamProject.csv')\n",
        "\n",
        "sorted_df = data.sort_values(by='Age')\n",
        "\n",
        "\n",
        "distinct_values = sorted_df[\"Age\"].unique()\n",
        "distinct_count = distinct_values.shape[0]\n",
        "\n",
        "print(distinct_values)\n",
        "print(distinct_count)"
      ]
    }
  ]
}