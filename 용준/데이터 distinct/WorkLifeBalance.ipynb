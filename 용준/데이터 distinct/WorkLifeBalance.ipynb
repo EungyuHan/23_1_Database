{
  "nbformat": 4,
  "nbformat_minor": 0,
  "metadata": {
    "colab": {
      "provenance": [],
      "gpuType": "T4"
    },
    "kernelspec": {
      "name": "python3",
      "display_name": "Python 3"
    },
    "language_info": {
      "name": "python"
    },
    "accelerator": "GPU",
    "gpuClass": "standard"
  },
  "cells": [
    {
      "cell_type": "code",
      "execution_count": 40,
      "metadata": {
        "colab": {
          "base_uri": "https://localhost:8080/"
        },
        "id": "ZXCOFHYzP1su",
        "outputId": "ddbc6221-f37a-4936-fce3-c91c3eccd8b8"
      },
      "outputs": [
        {
          "output_type": "stream",
          "name": "stdout",
          "text": [
            "Drive already mounted at /content/drive; to attempt to forcibly remount, call drive.mount(\"/content/drive\", force_remount=True).\n",
            "[1 2 3 4]\n",
            "4\n"
          ]
        }
      ],
      "source": [
        "from google.colab import drive\n",
        "drive.mount('/content/drive')\n",
        "\n",
        "import pandas as pd\n",
        "data = pd.read_csv('/content/drive/MyDrive/DB_TeamProject.csv')\n",
        "\n",
        "sorted_df = data.sort_values(by='WorkLifeBalance')\n",
        "\n",
        "\n",
        "distinct_values = sorted_df[\"WorkLifeBalance\"].unique()\n",
        "distinct_count = distinct_values.shape[0]\n",
        "\n",
        "print(distinct_values)\n",
        "print(distinct_count)"
      ]
    }
  ]
}