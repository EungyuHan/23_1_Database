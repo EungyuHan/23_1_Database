{
  "nbformat": 4,
  "nbformat_minor": 0,
  "metadata": {
    "colab": {
      "provenance": [],
      "gpuType": "T4"
    },
    "kernelspec": {
      "name": "python3",
      "display_name": "Python 3"
    },
    "language_info": {
      "name": "python"
    },
    "accelerator": "GPU",
    "gpuClass": "standard"
  },
  "cells": [
    {
      "cell_type": "code",
      "execution_count": 44,
      "metadata": {
        "colab": {
          "base_uri": "https://localhost:8080/"
        },
        "id": "ZXCOFHYzP1su",
        "outputId": "07c45a2b-ce20-4907-b18b-3568f21ab354"
      },
      "outputs": [
        {
          "output_type": "stream",
          "name": "stdout",
          "text": [
            "Drive already mounted at /content/drive; to attempt to forcibly remount, call drive.mount(\"/content/drive\", force_remount=True).\n",
            "[ 0  1  2  3  4  5  6  7  8  9 10 11 12 13 14 15 16 17]\n",
            "18\n"
          ]
        }
      ],
      "source": [
        "from google.colab import drive\n",
        "drive.mount('/content/drive')\n",
        "\n",
        "import pandas as pd\n",
        "data = pd.read_csv('/content/drive/MyDrive/DB_TeamProject.csv')\n",
        "\n",
        "sorted_df = data.sort_values(by='YearsWithCurrManager')\n",
        "\n",
        "\n",
        "distinct_values = sorted_df[\"YearsWithCurrManager\"].unique()\n",
        "distinct_count = distinct_values.shape[0]\n",
        "\n",
        "print(distinct_values)\n",
        "print(distinct_count)"
      ]
    }
  ]
}